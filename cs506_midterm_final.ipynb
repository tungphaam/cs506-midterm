{
 "cells": [
  {
   "cell_type": "markdown",
   "metadata": {},
   "source": [
    "# Libraries"
   ]
  },
  {
   "cell_type": "code",
   "execution_count": 1,
   "metadata": {},
   "outputs": [],
   "source": [
    "import pickle\n",
    "import pandas as pd\n",
    "import seaborn as sns\n",
    "from os.path import exists\n",
    "import matplotlib.pyplot as plt\n",
    "from sklearn.neighbors import KNeighborsClassifier\n",
    "from sklearn.model_selection import train_test_split\n",
    "from sklearn.metrics import accuracy_score, confusion_matrix\n",
    "from sklearn.feature_extraction.text import TfidfVectorizer\n",
    "from sklearn.ensemble import RandomForestClassifier\n",
    "from sklearn.preprocessing import StandardScaler\n",
    "import scipy\n",
    "from vaderSentiment.vaderSentiment import SentimentIntensityAnalyzer\n",
    "from imblearn.combine import SMOTEENN\n"
   ]
  },
  {
   "cell_type": "markdown",
   "metadata": {},
   "source": [
    "# Loading the Files\n",
    "\n",
    "Download the csv files into the `data/` directory"
   ]
  },
  {
   "cell_type": "code",
   "execution_count": 2,
   "metadata": {},
   "outputs": [
    {
     "name": "stdout",
     "output_type": "stream",
     "text": [
      "train.csv shape is  (1697533, 9)\n",
      "test.csv shape is  (212192, 2)\n",
      "\n",
      "        Id   ProductId          UserId  HelpfulnessNumerator  \\\n",
      "0   914403  B0009W5KHM   AV6QDP8Q0ONK4                     2   \n",
      "1   354887  6303079709  A2I8RXJN80A2D2                     0   \n",
      "2  1407653  B004H0M2XC  A3FHV3RV8Z12E6                     0   \n",
      "3  1377458  B003ZJ9536  A12VLTA3ZHVPUY                     1   \n",
      "4   475323  630574453X  A13NM1PES9OXVN                     2   \n",
      "\n",
      "   HelpfulnessDenominator        Time  \\\n",
      "0                       2  1341014400   \n",
      "1                       0  1168819200   \n",
      "2                       0  1386201600   \n",
      "3                       1  1348704000   \n",
      "4                       3   970012800   \n",
      "\n",
      "                                         Summary  \\\n",
      "0                                  GOOD FUN FILM   \n",
      "1                                   Movie Review   \n",
      "2             When is it a good time to Consent?   \n",
      "3                                          TRUTH   \n",
      "4  Intelligent and bittersweet -- stays with you   \n",
      "\n",
      "                                                Text  Score  \n",
      "0  While most straight to DVD films are not worth...    5.0  \n",
      "1  I have wanted this one for sometime, also.  I ...    5.0  \n",
      "2  Actually this was a pretty darn good indie fil...    4.0  \n",
      "3  Episodes 37 to 72 of the series press on in a ...    5.0  \n",
      "4  I was really impressed with this movie, but wa...    3.0  \n",
      "\n",
      "        Id  Score\n",
      "0  1323432    NaN\n",
      "1  1137299    NaN\n",
      "2  1459366    NaN\n",
      "3   931601    NaN\n",
      "4  1311995    NaN\n",
      "\n",
      "                 Id  HelpfulnessNumerator  HelpfulnessDenominator  \\\n",
      "count  1.697533e+06          1.697533e+06            1.697533e+06   \n",
      "mean   8.487660e+05          3.569048e+00            5.301422e+00   \n",
      "std    4.900357e+05          1.727883e+01            2.024445e+01   \n",
      "min    0.000000e+00          0.000000e+00            0.000000e+00   \n",
      "25%    4.243830e+05          0.000000e+00            0.000000e+00   \n",
      "50%    8.487660e+05          1.000000e+00            1.000000e+00   \n",
      "75%    1.273149e+06          3.000000e+00            5.000000e+00   \n",
      "max    1.697532e+06          6.084000e+03            6.510000e+03   \n",
      "\n",
      "               Time         Score  \n",
      "count  1.697533e+06  1.485341e+06  \n",
      "mean   1.262422e+09  4.110517e+00  \n",
      "std    1.289277e+08  1.197651e+00  \n",
      "min    8.793792e+08  1.000000e+00  \n",
      "25%    1.164413e+09  4.000000e+00  \n",
      "50%    1.307491e+09  5.000000e+00  \n",
      "75%    1.373242e+09  5.000000e+00  \n",
      "max    1.406074e+09  5.000000e+00  \n"
     ]
    },
    {
     "data": {
      "image/png": "[encoded data removed]",
      "text/plain": [
       "<Figure size 640x480 with 1 Axes>"
      ]
     },
     "metadata": {},
     "output_type": "display_data"
    },
    {
     "name": "stdout",
     "output_type": "stream",
     "text": [
      "\n",
      "EVERYTHING IS PROPERLY SET UP! YOU ARE READY TO START\n"
     ]
    }
   ],
   "source": [
    "# Load datasets\n",
    "trainingSet = pd.read_csv(\"./data/train.csv\")\n",
    "testingSet = pd.read_csv(\"./data/test.csv\")\n",
    "\n",
    "print(\"train.csv shape is \", trainingSet.shape)\n",
    "print(\"test.csv shape is \", testingSet.shape)\n",
    "print()\n",
    "print(trainingSet.head())\n",
    "print()\n",
    "print(testingSet.head())\n",
    "print()\n",
    "print(trainingSet.describe())\n",
    "\n",
    "# Visualize class distribution\n",
    "trainingSet['Score'].value_counts().plot(kind='bar', legend=True, alpha=.5)\n",
    "plt.show()\n",
    "\n",
    "print()\n",
    "print(\"EVERYTHING IS PROPERLY SET UP! YOU ARE READY TO START\")"
   ]
  },
  {
   "cell_type": "markdown",
   "metadata": {},
   "source": [
    "# Adding Features"
   ]
  },
  {
   "cell_type": "code",
   "execution_count": 3,
   "metadata": {},
   "outputs": [
    {
     "name": "stdout",
     "output_type": "stream",
     "text": [
      "Precomputed Product_Avg_Score preview:     ProductId  Product_Avg_Score\n",
      "0  0005019281           4.473118\n",
      "1  0005119367           4.804878\n",
      "2  0307141985           4.800000\n",
      "3  0307142469           4.750000\n",
      "4  0307142477           2.333333\n",
      "Columns in loaded X_train: Index(['Id', 'ProductId', 'UserId', 'HelpfulnessNumerator',\n",
      "       'HelpfulnessDenominator', 'Time', 'Summary', 'Text', 'Score',\n",
      "       'Helpfulness', 'Text_Length', 'Summary_Length', 'Product_Avg_Score'],\n",
      "      dtype='object')\n",
      "Columns after feature extraction: Index(['Id', 'ProductId', 'UserId', 'HelpfulnessNumerator',\n",
      "       'HelpfulnessDenominator', 'Time', 'Summary', 'Text', 'Score',\n",
      "       'Helpfulness', 'Text_Length', 'Summary_Length', 'Product_Avg_Score'],\n",
      "      dtype='object')\n",
      "   Text_Length  Summary_Length  Product_Avg_Score\n",
      "0          862              13           3.866667\n",
      "1           89              12           3.906977\n",
      "2          546              34           3.272727\n",
      "3          639               5           4.857143\n",
      "4         1949              45           3.250000\n",
      "   Text_Length  Summary_Length  Product_Avg_Score\n",
      "0          836              17           4.135501\n",
      "1          106              14           4.320000\n",
      "2          126              10           2.300000\n",
      "3          445              64           4.571429\n",
      "4          551              14           2.798419\n"
     ]
    }
   ],
   "source": [
    "# Precompute the average score per product once to avoid redundant computation\n",
    "product_avg_scores = trainingSet.groupby('ProductId')['Score'].mean().reset_index(name='Product_Avg_Score')\n",
    "print(\"Precomputed Product_Avg_Score preview:\", product_avg_scores.head())\n",
    "\n",
    "# Function to add new features\n",
    "def add_features_to(df):\n",
    "    # Helpfulness ratio\n",
    "    df['Helpfulness'] = df.apply(\n",
    "        lambda row: row['HelpfulnessNumerator'] / row['HelpfulnessDenominator']\n",
    "        if row['HelpfulnessDenominator'] > 0 else 0, axis=1)\n",
    "\n",
    "    # Length of review text and summary\n",
    "    df['Text_Length'] = df['Text'].apply(lambda x: len(str(x)) if pd.notnull(x) else 0)\n",
    "    df['Summary_Length'] = df['Summary'].apply(lambda x: len(str(x)) if pd.notnull(x) else 0)\n",
    "\n",
    "    # Add Product_Avg_Score by merging with the precomputed values\n",
    "    df = pd.merge(df, product_avg_scores, on='ProductId', how='left')\n",
    "\n",
    "    return df\n",
    "\n",
    "# Load the feature-extracted files if they've already been generated\n",
    "if exists('./data/X_train.csv') and exists('./data/X_submission.csv'):\n",
    "    X_train = pd.read_csv(\"./data/X_train.csv\")\n",
    "    X_submission = pd.read_csv(\"./data/X_submission.csv\")\n",
    "\n",
    "    # Debugging: Print columns in loaded data\n",
    "    print(\"Columns in loaded X_train:\", X_train.columns)\n",
    "\n",
    "    # Ensure that the feature columns exist, reapply feature extraction if missing\n",
    "    if 'Product_Avg_Score' not in X_train.columns:\n",
    "        print(\"Sentiment_Score column not found, reapplying feature extraction.\")\n",
    "\n",
    "        # Reapply feature extraction and save the updated files\n",
    "        X_train = add_features_to(X_train)\n",
    "        X_submission = add_features_to(X_submission)\n",
    "\n",
    "        # Save updated DataFrames\n",
    "        X_train.to_csv(\"./data/X_train.csv\", index=False)\n",
    "        X_submission.to_csv(\"./data/X_submission.csv\", index=False)\n",
    "else:\n",
    "    # Process the DataFrame and add new features if files do not exist\n",
    "    train = add_features_to(trainingSet)\n",
    "    train = train.dropna(subset=['Score'])\n",
    "\n",
    "    X_submission = pd.merge(testingSet, train[['Id', 'Helpfulness', 'Text_Length', 'Summary_Length', 'Product_Avg_Score']], on='Id', how='left')\n",
    "\n",
    "    # The training set is where the score is not null (remove rows with NaN in 'Score')\n",
    "    X_train = train[train['Score'].notnull()]\n",
    "\n",
    "    # Fill or drop NaN in 'Score' to handle missing target values\n",
    "    X_train = X_train.dropna(subset=['Score'])  # Drop rows where 'Score' is NaN\n",
    "\n",
    "    # Save the feature-engineered data\n",
    "    X_train.to_csv(\"./data/X_train.csv\", index=False)\n",
    "    X_submission.to_csv(\"./data/X_submission.csv\", index=False)\n",
    "\n",
    "# Check if the columns were added\n",
    "print(\"Columns after feature extraction:\", X_train.columns)\n",
    "print(X_train[['Text_Length', 'Summary_Length', 'Product_Avg_Score']].head())\n",
    "print(X_submission[['Text_Length', 'Summary_Length', 'Product_Avg_Score']].head())\n"
   ]
  },
  {
   "cell_type": "markdown",
   "metadata": {},
   "source": [
    "# Sample + Split into training and testing set"
   ]
  },
  {
   "cell_type": "code",
   "execution_count": 4,
   "metadata": {},
   "outputs": [],
   "source": [
    "# Split training set into training and testing set\n",
    "X_train, X_test, Y_train, Y_test = train_test_split(\n",
    "    X_train.drop(columns=['Score']),\n",
    "    X_train['Score'],\n",
    "    test_size=1/4.0,\n",
    "    random_state=0\n",
    ")"
   ]
  },
  {
   "cell_type": "markdown",
   "metadata": {},
   "source": [
    "# Feature Selection + Model Creation"
   ]
  },
  {
   "cell_type": "code",
   "execution_count": 5,
   "metadata": {},
   "outputs": [],
   "source": [
    "# Updated feature selection\n",
    "features = ['HelpfulnessNumerator', 'HelpfulnessDenominator', 'Time', 'Helpfulness', \n",
    "            'Text_Length', 'Summary_Length', 'Product_Avg_Score']\n",
    "\n",
    "# Select the features from the training, test, and submission sets\n",
    "X_train_select = X_train[features]\n",
    "X_test_select = X_test[features]\n",
    "X_submission_select = X_submission[features]\n",
    "\n",
    "# Text-based features using TF-IDF for review text\n",
    "vectorizer = TfidfVectorizer(max_features=1500, ngram_range=(1, 2)) \n",
    "X_train_text = vectorizer.fit_transform(X_train['Text'].fillna(''))\n",
    "X_test_text = vectorizer.transform(X_test['Text'].fillna(''))\n",
    "X_submission_text = vectorizer.transform(X_submission['Text'].fillna(''))\n",
    "\n",
    "# Scaling the numeric features\n",
    "scaler = StandardScaler()\n",
    "X_train_scaled = scaler.fit_transform(X_train_select)\n",
    "X_test_scaled = scaler.transform(X_test_select)\n",
    "X_submission_scaled = scaler.transform(X_submission_select)\n",
    "\n",
    "# Combine text-based (TF-IDF) and numeric features\n",
    "X_train_combined = scipy.sparse.hstack([X_train_scaled, X_train_text], format='csr')\n",
    "X_test_combined = scipy.sparse.hstack([X_test_scaled, X_test_text], format='csr')\n",
    "X_submission_combined = scipy.sparse.hstack([X_submission_scaled, X_submission_text], format='csr')\n"
   ]
  },
  {
   "cell_type": "markdown",
   "metadata": {},
   "source": [
    "## Train RandomForestClassifier"
   ]
  },
  {
   "cell_type": "code",
   "execution_count": 6,
   "metadata": {},
   "outputs": [
    {
     "name": "stderr",
     "output_type": "stream",
     "text": [
      "[Parallel(n_jobs=-1)]: Using backend ThreadingBackend with 12 concurrent workers.\n",
      "[Parallel(n_jobs=-1)]: Done  26 tasks      | elapsed: 10.7min\n",
      "[Parallel(n_jobs=-1)]: Done 150 out of 150 | elapsed: 49.5min finished\n",
      "[Parallel(n_jobs=-1)]: Using backend ThreadingBackend with 12 concurrent workers.\n",
      "[Parallel(n_jobs=-1)]: Done  26 tasks      | elapsed: 10.9min\n",
      "[Parallel(n_jobs=-1)]: Done 150 out of 150 | elapsed: 49.4min finished\n",
      "[Parallel(n_jobs=12)]: Using backend ThreadingBackend with 12 concurrent workers.\n",
      "[Parallel(n_jobs=12)]: Done  26 tasks      | elapsed:    1.3s\n",
      "[Parallel(n_jobs=12)]: Done 150 out of 150 | elapsed:    4.6s finished\n"
     ]
    }
   ],
   "source": [
    "model = RandomForestClassifier(n_estimators=150, max_depth=20, min_samples_leaf=2, n_jobs=-1, verbose=1, random_state=42).fit(X_train_combined, Y_train)\n",
    "model.fit(X_train_combined, Y_train)\n",
    "\n",
    "Y_test_predictions = model.predict(X_test_combined)"
   ]
  },
  {
   "cell_type": "markdown",
   "metadata": {},
   "source": [
    "# Model Evaluation"
   ]
  },
  {
   "cell_type": "code",
   "execution_count": 7,
   "metadata": {},
   "outputs": [
    {
     "name": "stdout",
     "output_type": "stream",
     "text": [
      "Accuracy on testing set =  0.5598272184759894\n"
     ]
    },
    {
     "data": {
      "image/png": "[encoded data removed]",
      "text/plain": [
       "<Figure size 640x480 with 2 Axes>"
      ]
     },
     "metadata": {},
     "output_type": "display_data"
    }
   ],
   "source": [
    "print(\"Accuracy on testing set = \", accuracy_score(Y_test, Y_test_predictions))\n",
    "# Plot a confusion matrix\n",
    "cm = confusion_matrix(Y_test, Y_test_predictions, normalize='true')\n",
    "sns.heatmap(cm, annot=True)\n",
    "plt.title('Confusion matrix of the classifier')\n",
    "plt.xlabel('Predicted')\n",
    "plt.ylabel('True')\n",
    "plt.show()"
   ]
  },
  {
   "cell_type": "markdown",
   "metadata": {},
   "source": [
    "# Create Submission File"
   ]
  },
  {
   "cell_type": "code",
   "execution_count": 8,
   "metadata": {},
   "outputs": [
    {
     "name": "stderr",
     "output_type": "stream",
     "text": [
      "[Parallel(n_jobs=12)]: Using backend ThreadingBackend with 12 concurrent workers.\n",
      "[Parallel(n_jobs=12)]: Done  26 tasks      | elapsed:    0.5s\n",
      "[Parallel(n_jobs=12)]: Done 150 out of 150 | elapsed:    2.2s finished\n"
     ]
    }
   ],
   "source": [
    "# Combine text and numeric features for the submission set\n",
    "X_submission_combined = scipy.sparse.hstack([X_submission_scaled, X_submission_text], format='csr')\n",
    "\n",
    "# Now predict using the combined submission feature set\n",
    "X_submission['Score'] = model.predict(X_submission_combined)\n",
    "\n",
    "# Create and save the submission file\n",
    "submission = X_submission[['Id', 'Score']]\n",
    "submission.to_csv(\"./data/submission.csv\", index=False)\n"
   ]
  }
 ],
 "metadata": {
  "kernelspec": {
   "display_name": "Python 3",
   "language": "python",
   "name": "python3"
  },
  "language_info": {
   "codemirror_mode": {
    "name": "ipython",
    "version": 3
   },
   "file_extension": ".py",
   "mimetype": "text/x-python",
   "name": "python",
   "nbconvert_exporter": "python",
   "pygments_lexer": "ipython3",
   "version": "3.11.5"
  }
 },
 "nbformat": 4,
 "nbformat_minor": 2
}
